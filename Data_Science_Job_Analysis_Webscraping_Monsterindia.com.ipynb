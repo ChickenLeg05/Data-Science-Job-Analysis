{
 "cells": [
  {
   "cell_type": "markdown",
   "metadata": {},
   "source": [
    "# A Data Science Job Market Demand Analysis\n",
    "##  Webscraping Monsterindia.com using Selenium"
   ]
  },
  {
   "cell_type": "markdown",
   "metadata": {},
   "source": [
    "### The goal of this research is to provide answers to these frequently asked questions every aspiring data scientist inquire about?\n",
    "1. What years of experience are employers looking for?\n",
    "2.  What are the job roles employers are demanding for? \n",
    "3. What are the required skills to become a data scientist (based on the expectations of an employers)?"
   ]
  },
  {
   "cell_type": "code",
   "execution_count": 1,
   "metadata": {},
   "outputs": [],
   "source": [
    "# loading the important libraries\n",
    "from time import sleep\n",
    "from random import randint\n",
    "from selenium import webdriver\n",
    "from selenium.common.exceptions import NoSuchElementException\n",
    "import pandas as pd\n",
    "import numpy as np\n",
    "import matplotlib.pyplot as plt\n",
    "%matplotlib inline"
   ]
  },
  {
   "cell_type": "code",
   "execution_count": 2,
   "metadata": {},
   "outputs": [],
   "source": [
    "PATH = \"C:\\Program Files (x86)\\chromedriver.exe\"\n",
    "driver = webdriver.Chrome(PATH)"
   ]
  },
  {
   "cell_type": "code",
   "execution_count": 3,
   "metadata": {},
   "outputs": [
    {
     "name": "stderr",
     "output_type": "stream",
     "text": [
      "100%|██████████| 20/20 [06:19<00:00, 18.96s/it]\n"
     ]
    }
   ],
   "source": [
    "# Loading Progress bar\n",
    "from tqdm import tqdm\n",
    "\n",
    "# intitaiting  data storage\n",
    "roles = []\n",
    "company = []\n",
    "experience = []\n",
    "location = []\n",
    "skills = []\n",
    "\n",
    "# we have 25 job listed on a page\n",
    "# iterating through 20 webpages\n",
    "pages = np.arange(1, 501, 25)\n",
    "for page in tqdm(pages):\n",
    "    url = \"https://www.monsterindia.com/srp/results?start=\"+str(page)+ \"&sort=1&limit=25&query=data%20scientist&searchId=0a018204-fd48-42d4-ac6f-938605fe4106\"\n",
    "    driver.get(url)\n",
    "    joblist = driver.find_elements_by_css_selector(\".card-apply-content\")\n",
    "    sleep(randint(2, 10))\n",
    "     #print(page\n",
    "     # Looping through each listed job\n",
    "    for job in joblist:\n",
    "        job_role = job.find_element_by_css_selector('.medium').text\n",
    "        comp_name = job.find_element_by_css_selector('.company-name').text\n",
    "        years_of_exp = job.find_element_by_css_selector('.exp.col-xxs-12.col-sm-3.text-ellipsis').text\n",
    "        loc = job.find_element_by_css_selector('.col-xxs-12.col-sm-5.text-ellipsis').text \n",
    "        \n",
    "        \n",
    "        # Skill elements may or may not be present in some job posts.To avoid NoSuchElement error message,we will use this code to handle it\n",
    "        try:\n",
    "            skill = job.find_element_by_css_selector('p.descrip-skills').text\n",
    "        except NoSuchElementException:  \n",
    "            pass\n",
    "        \n",
    "        roles.append(job_role)\n",
    "        company.append(comp_name)\n",
    "        experience.append(years_of_exp)\n",
    "        location.append(loc)\n",
    "        skills.append(skill)\n",
    " # storing in a pandas dataframe       \n",
    "ds_jobs = pd.DataFrame({\n",
    "            \"roles\":roles,\n",
    "            \"companies\":company,\n",
    "           \"experience\":experience,\n",
    "            \"locations\" :location,\n",
    "            \"skills\":skills})\n",
    "    \n"
   ]
  },
  {
   "cell_type": "code",
   "execution_count": 6,
   "metadata": {},
   "outputs": [],
   "source": [
    "# Carrying out a little preprocessing \n",
    "ds_jobs[\"skills\"] = ds_jobs[\"skills\"].str.replace(\"Skills :\", \" \")"
   ]
  },
  {
   "cell_type": "code",
   "execution_count": 9,
   "metadata": {},
   "outputs": [],
   "source": [
    "# Saving dataframe to a csv file named all_job\n",
    "ds_jobs.to_csv('ds_jobs.csv')"
   ]
  },
  {
   "cell_type": "code",
   "execution_count": 2,
   "metadata": {},
   "outputs": [],
   "source": [
    "# Reading our stored database\n",
    "ds_jobs = pd.read_csv('ds_jobs.csv',index_col=0)"
   ]
  },
  {
   "cell_type": "code",
   "execution_count": 3,
   "metadata": {},
   "outputs": [
    {
     "data": {
      "text/html": [
       "<div>\n",
       "<style scoped>\n",
       "    .dataframe tbody tr th:only-of-type {\n",
       "        vertical-align: middle;\n",
       "    }\n",
       "\n",
       "    .dataframe tbody tr th {\n",
       "        vertical-align: top;\n",
       "    }\n",
       "\n",
       "    .dataframe thead th {\n",
       "        text-align: right;\n",
       "    }\n",
       "</style>\n",
       "<table border=\"1\" class=\"dataframe\">\n",
       "  <thead>\n",
       "    <tr style=\"text-align: right;\">\n",
       "      <th></th>\n",
       "      <th>roles</th>\n",
       "      <th>companies</th>\n",
       "      <th>experience</th>\n",
       "      <th>locations</th>\n",
       "      <th>skills</th>\n",
       "    </tr>\n",
       "  </thead>\n",
       "  <tbody>\n",
       "    <tr>\n",
       "      <th>0</th>\n",
       "      <td>Data Analyst/ Scientist</td>\n",
       "      <td>Sonu Kumar (Proprietor Of Bicano Tech Silca)</td>\n",
       "      <td>0-3 Years</td>\n",
       "      <td>Mumbai, Pune</td>\n",
       "      <td>Data Scientist</td>\n",
       "    </tr>\n",
       "    <tr>\n",
       "      <th>1</th>\n",
       "      <td>data scientist</td>\n",
       "      <td>Atish Arun Sonune (Proprietor Of Tata Techno S...</td>\n",
       "      <td>0-2 Years</td>\n",
       "      <td>Cochin / Kochi / Ernakulam</td>\n",
       "      <td>Data Scientist</td>\n",
       "    </tr>\n",
       "    <tr>\n",
       "      <th>2</th>\n",
       "      <td>Data Scientist</td>\n",
       "      <td>Yashodha S M (Proprietor Of Co Inter Technology)</td>\n",
       "      <td>0-2 Years</td>\n",
       "      <td>Chennai</td>\n",
       "      <td>Data Scientist</td>\n",
       "    </tr>\n",
       "    <tr>\n",
       "      <th>3</th>\n",
       "      <td>Data Scientist</td>\n",
       "      <td>Yashodha S M (Proprietor Of Co Inter Technology)</td>\n",
       "      <td>0-2 Years</td>\n",
       "      <td>Kozhikode / Calicut</td>\n",
       "      <td>data architech , Data Analyst , Data scientist</td>\n",
       "    </tr>\n",
       "    <tr>\n",
       "      <th>4</th>\n",
       "      <td>Data Scientist</td>\n",
       "      <td>Js It Tech Solutions</td>\n",
       "      <td>3-5 Years</td>\n",
       "      <td>Hyderabad / Secunderabad</td>\n",
       "      <td>Deep Learning , Computer Vision</td>\n",
       "    </tr>\n",
       "  </tbody>\n",
       "</table>\n",
       "</div>"
      ],
      "text/plain": [
       "                     roles                                          companies  \\\n",
       "0  Data Analyst/ Scientist       Sonu Kumar (Proprietor Of Bicano Tech Silca)   \n",
       "1           data scientist  Atish Arun Sonune (Proprietor Of Tata Techno S...   \n",
       "2           Data Scientist   Yashodha S M (Proprietor Of Co Inter Technology)   \n",
       "3           Data Scientist   Yashodha S M (Proprietor Of Co Inter Technology)   \n",
       "4           Data Scientist                               Js It Tech Solutions   \n",
       "\n",
       "  experience                   locations  \\\n",
       "0  0-3 Years                Mumbai, Pune   \n",
       "1  0-2 Years  Cochin / Kochi / Ernakulam   \n",
       "2  0-2 Years                     Chennai   \n",
       "3  0-2 Years         Kozhikode / Calicut   \n",
       "4  3-5 Years    Hyderabad / Secunderabad   \n",
       "\n",
       "                                             skills  \n",
       "0                                    Data Scientist  \n",
       "1                                    Data Scientist  \n",
       "2                                    Data Scientist  \n",
       "3    data architech , Data Analyst , Data scientist  \n",
       "4                   Deep Learning , Computer Vision  "
      ]
     },
     "execution_count": 3,
     "metadata": {},
     "output_type": "execute_result"
    }
   ],
   "source": [
    "# Checking the head of our data \n",
    "ds_jobs.head()"
   ]
  },
  {
   "cell_type": "code",
   "execution_count": 4,
   "metadata": {},
   "outputs": [
    {
     "data": {
      "text/html": [
       "<div>\n",
       "<style scoped>\n",
       "    .dataframe tbody tr th:only-of-type {\n",
       "        vertical-align: middle;\n",
       "    }\n",
       "\n",
       "    .dataframe tbody tr th {\n",
       "        vertical-align: top;\n",
       "    }\n",
       "\n",
       "    .dataframe thead th {\n",
       "        text-align: right;\n",
       "    }\n",
       "</style>\n",
       "<table border=\"1\" class=\"dataframe\">\n",
       "  <thead>\n",
       "    <tr style=\"text-align: right;\">\n",
       "      <th></th>\n",
       "      <th>roles</th>\n",
       "      <th>companies</th>\n",
       "      <th>experience</th>\n",
       "      <th>locations</th>\n",
       "      <th>skills</th>\n",
       "    </tr>\n",
       "  </thead>\n",
       "  <tbody>\n",
       "    <tr>\n",
       "      <th>470</th>\n",
       "      <td>DATA ANALYST</td>\n",
       "      <td>Advance Jobs Private Limited</td>\n",
       "      <td>3-8 Years</td>\n",
       "      <td>Delhi, Gurgaon / Gurugram</td>\n",
       "      <td>Data Analyst , R , Data Analytics , Python ,...</td>\n",
       "    </tr>\n",
       "    <tr>\n",
       "      <th>471</th>\n",
       "      <td>Online Data Entry Jobs, Work at Home Jobs, Sim...</td>\n",
       "      <td>Company Name Confidential</td>\n",
       "      <td>0-5 Years</td>\n",
       "      <td>Hyderabad / Secunderabad, Mumbai, Mumbai City,...</td>\n",
       "      <td>Position: Fresher , Data Entry Operator , Da...</td>\n",
       "    </tr>\n",
       "    <tr>\n",
       "      <th>472</th>\n",
       "      <td>Online Data Entry Jobs - Work From Home - Part...</td>\n",
       "      <td>Sky Work Solution</td>\n",
       "      <td>0-3 Years</td>\n",
       "      <td>Bengaluru / Bangalore, Navi Mumbai</td>\n",
       "      <td>Typing , Data Entry</td>\n",
       "    </tr>\n",
       "    <tr>\n",
       "      <th>473</th>\n",
       "      <td>Online Data Entry Jobs, Work From Home Jobs, D...</td>\n",
       "      <td>Company Name Confidential</td>\n",
       "      <td>0-5 Years</td>\n",
       "      <td>Bengaluru / Bangalore, Hyderabad / Secunderabad</td>\n",
       "      <td>Work From Home , Data Entry , Data Entry Ope...</td>\n",
       "    </tr>\n",
       "    <tr>\n",
       "      <th>474</th>\n",
       "      <td>Data Science AI Specialist</td>\n",
       "      <td>A Thingz Solutions Private Limited</td>\n",
       "      <td>6-10 Years</td>\n",
       "      <td>Hyderabad / Secunderabad, Visakhapatnam</td>\n",
       "      <td>Data Science , Artificial Intelligence</td>\n",
       "    </tr>\n",
       "  </tbody>\n",
       "</table>\n",
       "</div>"
      ],
      "text/plain": [
       "                                                 roles  \\\n",
       "470                                       DATA ANALYST   \n",
       "471  Online Data Entry Jobs, Work at Home Jobs, Sim...   \n",
       "472  Online Data Entry Jobs - Work From Home - Part...   \n",
       "473  Online Data Entry Jobs, Work From Home Jobs, D...   \n",
       "474                         Data Science AI Specialist   \n",
       "\n",
       "                              companies  experience  \\\n",
       "470        Advance Jobs Private Limited   3-8 Years   \n",
       "471           Company Name Confidential   0-5 Years   \n",
       "472                   Sky Work Solution   0-3 Years   \n",
       "473           Company Name Confidential   0-5 Years   \n",
       "474  A Thingz Solutions Private Limited  6-10 Years   \n",
       "\n",
       "                                             locations  \\\n",
       "470                          Delhi, Gurgaon / Gurugram   \n",
       "471  Hyderabad / Secunderabad, Mumbai, Mumbai City,...   \n",
       "472                 Bengaluru / Bangalore, Navi Mumbai   \n",
       "473    Bengaluru / Bangalore, Hyderabad / Secunderabad   \n",
       "474            Hyderabad / Secunderabad, Visakhapatnam   \n",
       "\n",
       "                                                skills  \n",
       "470    Data Analyst , R , Data Analytics , Python ,...  \n",
       "471    Position: Fresher , Data Entry Operator , Da...  \n",
       "472                                Typing , Data Entry  \n",
       "473    Work From Home , Data Entry , Data Entry Ope...  \n",
       "474             Data Science , Artificial Intelligence  "
      ]
     },
     "execution_count": 4,
     "metadata": {},
     "output_type": "execute_result"
    }
   ],
   "source": [
    "# Checking the tail of our data\n",
    "ds_jobs.tail()"
   ]
  },
  {
   "cell_type": "markdown",
   "metadata": {},
   "source": [
    "### Data Preprocessing\n",
    "* Let's do some further data cleaning process"
   ]
  },
  {
   "cell_type": "code",
   "execution_count": 5,
   "metadata": {},
   "outputs": [
    {
     "data": {
      "text/plain": [
       "roles         0\n",
       "companies     0\n",
       "experience    0\n",
       "locations     0\n",
       "skills        0\n",
       "dtype: int64"
      ]
     },
     "execution_count": 5,
     "metadata": {},
     "output_type": "execute_result"
    }
   ],
   "source": [
    "# Checking for missing data\n",
    "ds_jobs.isnull().sum()"
   ]
  },
  {
   "cell_type": "code",
   "execution_count": 6,
   "metadata": {},
   "outputs": [
    {
     "data": {
      "text/plain": [
       "16"
      ]
     },
     "execution_count": 6,
     "metadata": {},
     "output_type": "execute_result"
    }
   ],
   "source": [
    "ds_jobs.duplicated().sum()"
   ]
  },
  {
   "cell_type": "code",
   "execution_count": 7,
   "metadata": {},
   "outputs": [
    {
     "data": {
      "text/plain": [
       "(16, 5)"
      ]
     },
     "execution_count": 7,
     "metadata": {},
     "output_type": "execute_result"
    }
   ],
   "source": [
    "# Checking for duplicates in our data\n",
    "ds_jobs[ds_jobs.duplicated(subset=[\"roles\",\"companies\",\"experience\",\"locations\",\"skills\"])].shape"
   ]
  },
  {
   "cell_type": "code",
   "execution_count": 8,
   "metadata": {},
   "outputs": [
    {
     "data": {
      "text/plain": [
       "(30, 5)"
      ]
     },
     "execution_count": 8,
     "metadata": {},
     "output_type": "execute_result"
    }
   ],
   "source": [
    "# To see all the duplicated roles\n",
    "ds_jobs.loc[ds_jobs.duplicated(keep=False), :].shape\n",
    "# ds_jobs.loc[ds_jobs.duplicated(), :]"
   ]
  },
  {
   "cell_type": "code",
   "execution_count": 9,
   "metadata": {},
   "outputs": [
    {
     "data": {
      "text/plain": [
       "(459, 5)"
      ]
     },
     "execution_count": 9,
     "metadata": {},
     "output_type": "execute_result"
    }
   ],
   "source": [
    "# Let's drop our duplicate value\n",
    "ds_jobs.drop_duplicates(keep=\"last\",inplace=True)\n",
    "ds_jobs.shape"
   ]
  },
  {
   "cell_type": "code",
   "execution_count": 10,
   "metadata": {},
   "outputs": [],
   "source": [
    "#let's lower case all the strings to avoid redundancy\n",
    "ds_jobs = ds_jobs.apply(lambda x: x.astype(str).str.lower())"
   ]
  },
  {
   "cell_type": "code",
   "execution_count": 11,
   "metadata": {},
   "outputs": [
    {
     "data": {
      "text/html": [
       "<div>\n",
       "<style scoped>\n",
       "    .dataframe tbody tr th:only-of-type {\n",
       "        vertical-align: middle;\n",
       "    }\n",
       "\n",
       "    .dataframe tbody tr th {\n",
       "        vertical-align: top;\n",
       "    }\n",
       "\n",
       "    .dataframe thead th {\n",
       "        text-align: right;\n",
       "    }\n",
       "</style>\n",
       "<table border=\"1\" class=\"dataframe\">\n",
       "  <thead>\n",
       "    <tr style=\"text-align: right;\">\n",
       "      <th></th>\n",
       "      <th>roles</th>\n",
       "      <th>companies</th>\n",
       "      <th>experience</th>\n",
       "      <th>locations</th>\n",
       "      <th>skills</th>\n",
       "    </tr>\n",
       "  </thead>\n",
       "  <tbody>\n",
       "    <tr>\n",
       "      <th>0</th>\n",
       "      <td>data analyst/ scientist</td>\n",
       "      <td>sonu kumar (proprietor of bicano tech silca)</td>\n",
       "      <td>0-3 years</td>\n",
       "      <td>[mumbai,  pune]</td>\n",
       "      <td>[  data scientist]</td>\n",
       "    </tr>\n",
       "    <tr>\n",
       "      <th>1</th>\n",
       "      <td>data scientist</td>\n",
       "      <td>atish arun sonune (proprietor of tata techno s...</td>\n",
       "      <td>0-2 years</td>\n",
       "      <td>[cochin / kochi / ernakulam]</td>\n",
       "      <td>[  data scientist]</td>\n",
       "    </tr>\n",
       "    <tr>\n",
       "      <th>2</th>\n",
       "      <td>data scientist</td>\n",
       "      <td>yashodha s m (proprietor of co inter technology)</td>\n",
       "      <td>0-2 years</td>\n",
       "      <td>[chennai]</td>\n",
       "      <td>[  data scientist]</td>\n",
       "    </tr>\n",
       "    <tr>\n",
       "      <th>3</th>\n",
       "      <td>data scientist</td>\n",
       "      <td>yashodha s m (proprietor of co inter technology)</td>\n",
       "      <td>0-2 years</td>\n",
       "      <td>[kozhikode / calicut]</td>\n",
       "      <td>[  data architech ,  data analyst ,  data scie...</td>\n",
       "    </tr>\n",
       "    <tr>\n",
       "      <th>4</th>\n",
       "      <td>data scientist</td>\n",
       "      <td>js it tech solutions</td>\n",
       "      <td>3-5 years</td>\n",
       "      <td>[hyderabad / secunderabad]</td>\n",
       "      <td>[  deep learning ,  computer vision]</td>\n",
       "    </tr>\n",
       "  </tbody>\n",
       "</table>\n",
       "</div>"
      ],
      "text/plain": [
       "                     roles                                          companies  \\\n",
       "0  data analyst/ scientist       sonu kumar (proprietor of bicano tech silca)   \n",
       "1           data scientist  atish arun sonune (proprietor of tata techno s...   \n",
       "2           data scientist   yashodha s m (proprietor of co inter technology)   \n",
       "3           data scientist   yashodha s m (proprietor of co inter technology)   \n",
       "4           data scientist                               js it tech solutions   \n",
       "\n",
       "  experience                     locations  \\\n",
       "0  0-3 years               [mumbai,  pune]   \n",
       "1  0-2 years  [cochin / kochi / ernakulam]   \n",
       "2  0-2 years                     [chennai]   \n",
       "3  0-2 years         [kozhikode / calicut]   \n",
       "4  3-5 years    [hyderabad / secunderabad]   \n",
       "\n",
       "                                              skills  \n",
       "0                                 [  data scientist]  \n",
       "1                                 [  data scientist]  \n",
       "2                                 [  data scientist]  \n",
       "3  [  data architech ,  data analyst ,  data scie...  \n",
       "4               [  deep learning ,  computer vision]  "
      ]
     },
     "execution_count": 11,
     "metadata": {},
     "output_type": "execute_result"
    }
   ],
   "source": [
    "# Splitting our location and skills attcahed to each job role\n",
    "ds_jobs.skills=[skill.split(\",\") for skill in ds_jobs.skills]\n",
    "ds_jobs.locations=[location.split(\",\") for location in ds_jobs.locations]\n",
    "ds_jobs.head()"
   ]
  },
  {
   "cell_type": "code",
   "execution_count": 13,
   "metadata": {},
   "outputs": [],
   "source": [
    "# unstacking the skills column and counting it\n",
    "#skills_count = ds_jobs.skills.apply(pd.Series).stack().value_counts()\n",
    "#skills_count.head(50)"
   ]
  },
  {
   "cell_type": "code",
   "execution_count": null,
   "metadata": {},
   "outputs": [],
   "source": []
  },
  {
   "cell_type": "markdown",
   "metadata": {},
   "source": [
    "## Exploratory Data Analysis\n",
    "### Lets begin to answer some of our research questions"
   ]
  },
  {
   "cell_type": "markdown",
   "metadata": {},
   "source": [
    "### 1. What years of experience are employers looking for?"
   ]
  },
  {
   "cell_type": "code",
   "execution_count": 14,
   "metadata": {},
   "outputs": [
    {
     "data": {
      "image/png": "[encoded data removed]",
      "text/plain": [
       "<Figure size 576x360 with 1 Axes>"
      ]
     },
     "metadata": {
      "needs_background": "light"
     },
     "output_type": "display_data"
    }
   ],
   "source": [
    "ds_jobs[\"experience\"].value_counts()[:10].plot.barh(figsize=(8,5),fontsize=13,color=\"g\")\n",
    "plt.title(\" Years of Experience \",fontsize=15)\n",
    "plt.xlabel(\"No.of Vacancies\",fontsize=18)\n",
    "plt.ylabel(\"Experience\",fontsize=18)\n",
    "plt.show()"
   ]
  },
  {
   "cell_type": "markdown",
   "metadata": {},
   "source": [
    "### Required Years of Experience\n",
    "*  Unspecified years: we can assume that the employers are open to all level of experience possessed by any data scientist(fresh graduates, mid-level, and experienced) as long as you can show your competencies at the job. "
   ]
  },
  {
   "cell_type": "code",
   "execution_count": null,
   "metadata": {},
   "outputs": [],
   "source": []
  },
  {
   "cell_type": "markdown",
   "metadata": {},
   "source": [
    "### 2. What are the job roles employers are demanding for?"
   ]
  },
  {
   "cell_type": "code",
   "execution_count": 15,
   "metadata": {},
   "outputs": [
    {
     "data": {
      "image/png": "[encoded data removed]",
      "text/plain": [
       "<Figure size 576x360 with 1 Axes>"
      ]
     },
     "metadata": {
      "needs_background": "light"
     },
     "output_type": "display_data"
    }
   ],
   "source": [
    "ds_jobs[\"roles\"].value_counts()[:10].plot.barh(figsize=(8,5),fontsize=10,color=\"m\")\n",
    "plt.xticks(rotation=45,ha='right')\n",
    "plt.title(\"Top 10 Data Science Job Roles in Demand\",fontsize=18)\n",
    "plt.ylabel(\"No of Vacancies\",fontsize=15,rotation=90)\n",
    "plt.xlabel(\"Job Roles\",fontsize=15)\n",
    "plt.show()"
   ]
  },
  {
   "cell_type": "markdown",
   "metadata": {},
   "source": [
    "### The Top 10 Data Science Role in demand\n",
    "* More than 60% of the job advert are demanding for a data scientist position\n",
    "* The role of a senior data scientist is also getting the buzz. I believe this is a more suited role for an experienced data scientist."
   ]
  },
  {
   "cell_type": "code",
   "execution_count": null,
   "metadata": {},
   "outputs": [],
   "source": []
  },
  {
   "cell_type": "markdown",
   "metadata": {},
   "source": [
    "## THE MAIN REASON WE CARRIED OUT THIS RESEARCH"
   ]
  },
  {
   "cell_type": "markdown",
   "metadata": {},
   "source": [
    "### 3. What are the required skills to become a data scientist (based on the expectations of an employers)?"
   ]
  },
  {
   "cell_type": "code",
   "execution_count": 16,
   "metadata": {},
   "outputs": [
    {
     "data": {
      "image/png": "[encoded data removed]",
      "text/plain": [
       "<Figure size 1296x432 with 1 Axes>"
      ]
     },
     "metadata": {
      "needs_background": "light"
     },
     "output_type": "display_data"
    },
    {
     "data": {
      "text/plain": [
       "<Figure size 432x288 with 0 Axes>"
      ]
     },
     "metadata": {},
     "output_type": "display_data"
    }
   ],
   "source": [
    "ds_jobs.skills.apply(pd.Series).stack().value_counts()[:30].plot(kind=\"bar\",figsize=(18,6),fontsize=15,color=\"#e60548\")\n",
    "plt.xticks(rotation=50,ha='right')\n",
    "plt.title(\"Top 30 Skills for Data science\",fontsize=25)\n",
    "plt.ylabel(\"No.of Vacancies\",fontsize=20)\n",
    "plt.xlabel(\"Skills\",fontsize=25)\n",
    "plt.show()\n",
    "\n",
    "plt.savefig('Top_Required_Skills.png')"
   ]
  },
  {
   "cell_type": "markdown",
   "metadata": {},
   "source": [
    "### I know the chart above is overwelming, so let's break it down below"
   ]
  },
  {
   "cell_type": "markdown",
   "metadata": {},
   "source": [
    "### UNSTACKING THE SKILLS COLUMN"
   ]
  },
  {
   "cell_type": "code",
   "execution_count": 17,
   "metadata": {},
   "outputs": [
    {
     "data": {
      "text/html": [
       "<div>\n",
       "<style scoped>\n",
       "    .dataframe tbody tr th:only-of-type {\n",
       "        vertical-align: middle;\n",
       "    }\n",
       "\n",
       "    .dataframe tbody tr th {\n",
       "        vertical-align: top;\n",
       "    }\n",
       "\n",
       "    .dataframe thead th {\n",
       "        text-align: right;\n",
       "    }\n",
       "</style>\n",
       "<table border=\"1\" class=\"dataframe\">\n",
       "  <thead>\n",
       "    <tr style=\"text-align: right;\">\n",
       "      <th></th>\n",
       "      <th>skills</th>\n",
       "      <th>count</th>\n",
       "    </tr>\n",
       "  </thead>\n",
       "  <tbody>\n",
       "    <tr>\n",
       "      <th>0</th>\n",
       "      <td>python</td>\n",
       "      <td>41</td>\n",
       "    </tr>\n",
       "    <tr>\n",
       "      <th>1</th>\n",
       "      <td>data scientist</td>\n",
       "      <td>40</td>\n",
       "    </tr>\n",
       "    <tr>\n",
       "      <th>2</th>\n",
       "      <td>machine learning</td>\n",
       "      <td>32</td>\n",
       "    </tr>\n",
       "    <tr>\n",
       "      <th>3</th>\n",
       "      <td>data analysis</td>\n",
       "      <td>27</td>\n",
       "    </tr>\n",
       "    <tr>\n",
       "      <th>4</th>\n",
       "      <td>data scientist</td>\n",
       "      <td>24</td>\n",
       "    </tr>\n",
       "  </tbody>\n",
       "</table>\n",
       "</div>"
      ],
      "text/plain": [
       "               skills  count\n",
       "0             python      41\n",
       "1     data scientist      40\n",
       "2   machine learning      32\n",
       "3      data analysis      27\n",
       "4      data scientist     24"
      ]
     },
     "execution_count": 17,
     "metadata": {},
     "output_type": "execute_result"
    }
   ],
   "source": [
    "# Creating a new dataframe for the skills column: unstacking it and counting it\n",
    "sk1=pd.DataFrame(ds_jobs.skills.apply(pd.Series).stack().value_counts()).reset_index()\n",
    "sk1.columns = [\"skills\",\"count\"]\n",
    "sk1.head()"
   ]
  },
  {
   "cell_type": "code",
   "execution_count": null,
   "metadata": {},
   "outputs": [],
   "source": []
  },
  {
   "cell_type": "markdown",
   "metadata": {},
   "source": [
    "### 3.1 The Must Have Skills "
   ]
  },
  {
   "cell_type": "code",
   "execution_count": 18,
   "metadata": {},
   "outputs": [
    {
     "data": {
      "text/plain": [
       "{'machine_learning': 72,\n",
       " 'data_analysis': 68,\n",
       " 'deep_learning': 20,\n",
       " 'nlp': 16,\n",
       " 'big_data': 14,\n",
       " 'statistics': 13,\n",
       " 'data_mining': 6}"
      ]
     },
     "execution_count": 18,
     "metadata": {},
     "output_type": "execute_result"
    }
   ],
   "source": [
    "# finding the top skills for Data science in general\n",
    "# we put it in a dictionary\n",
    "datascience={}\n",
    "datascience['statistics']=sk1[\"count\"][sk1['skills'].str.contains('stat', regex=True)].sum()\n",
    "datascience['machine_learning']=sk1[\"count\"][sk1['skills'].str.contains('machine | ml', regex=True)].sum()\n",
    "datascience['data_analysis']=sk1[\"count\"][sk1['skills'].str.contains('data ana', regex=True)].sum()\n",
    "datascience['data_mining']=sk1[\"count\"][sk1['skills'].str.contains('mining ', regex=True)].sum()\n",
    "datascience['nlp']=sk1[\"count\"][sk1['skills'].str.contains('nlp|natural', regex=True)].sum()\n",
    "datascience['deep_learning']=sk1[\"count\"][sk1['skills'].str.contains('deep learning', regex=True)].sum()\n",
    "datascience['big_data']=sk1[\"count\"][sk1['skills'].str.contains('big ', regex=True)].sum()\n",
    "\n",
    "from operator import itemgetter\n",
    "datascience=dict(sorted(datascience.items(), key=itemgetter(1),reverse=True))\n",
    "datascience"
   ]
  },
  {
   "cell_type": "code",
   "execution_count": 19,
   "metadata": {},
   "outputs": [
    {
     "data": {
      "image/png": "[encoded data removed]",
      "text/plain": [
       "<Figure size 432x288 with 1 Axes>"
      ]
     },
     "metadata": {
      "needs_background": "light"
     },
     "output_type": "display_data"
    }
   ],
   "source": [
    "plt.bar(datascience.keys(),datascience.values(),color=[\"#FE6363\",\"#66FA72\",\"#ff00b4\",\"c\",\"#ffff00\",\"m\",\"#63FCFE\",\"#1e32c8\"])\n",
    "plt.xticks(rotation=80,fontsize=15)\n",
    "plt.title(\"Must have skills\",fontsize=20)\n",
    "plt.show()"
   ]
  },
  {
   "cell_type": "markdown",
   "metadata": {},
   "source": [
    "#### Must Have Skills\n",
    "* It is important for an aspiring data scientist to have deep knowledge and understanding of machine learning and data analysis\n",
    "* Additional it is also important to understand deep learning, natural language processing(nlp),big_data and statistics"
   ]
  },
  {
   "cell_type": "markdown",
   "metadata": {},
   "source": [
    "### 3.2 Programming Languages in Demand"
   ]
  },
  {
   "cell_type": "code",
   "execution_count": 21,
   "metadata": {},
   "outputs": [
    {
     "data": {
      "text/plain": [
       "{'python': 65,\n",
       " 'sql': 36,\n",
       " 'r': 33,\n",
       " 'java': 24,\n",
       " 'sas': 16,\n",
       " 'c++': 15,\n",
       " 'matlab': 7,\n",
       " 'scala': 5}"
      ]
     },
     "execution_count": 21,
     "metadata": {},
     "output_type": "execute_result"
    }
   ],
   "source": [
    "# Finding the commonly demanded programming lamguage for data scientist\n",
    "# We put it in a dictionary\n",
    "languages={}\n",
    "\n",
    "languages[\"python\"]=sk1[\"count\"][sk1['skills'].str.contains('python|numpy ', regex=True)].sum()\n",
    "languages[\"r\"]=sk1[\"count\"][sk1['skills'].str.contains(\"^.r\", regex=True)].sum()\n",
    "languages[\"matlab\"]=sk1[\"count\"][sk1['skills'].str.contains('matlab', regex=True)].sum()\n",
    "languages[\"java\"]=sk1[\"count\"][sk1['skills'].str.contains('java$|java', regex=True)].sum()\n",
    "languages[\"c++\"]=sk1[\"count\"][sk1['skills'].str.contains('c\\+| c#', regex=True)].sum()\n",
    "languages[\"sas\"]=sk1[\"count\"][sk1['skills'].str.contains('sas', regex=True)].sum()\n",
    "languages[\"scala\"]=sk1[\"count\"][sk1['skills'].str.contains('scala', regex=True)].sum()\n",
    "\n",
    "#Let's identify the Sql first \n",
    "sql=sk1[sk1['skills'].str.contains('sql', regex=True)]\n",
    "# Seperating the nosql and plsql from the list\n",
    "languages[\"sql\"]=sql[\"count\"][~sql['skills'].str.contains('no | p ', regex=True)].sum()\n",
    "\n",
    "# To sort the programming languages in the dictionary\n",
    "languages=dict(sorted(languages.items(), key=itemgetter(1),reverse=True))\n",
    "languages"
   ]
  },
  {
   "cell_type": "code",
   "execution_count": 22,
   "metadata": {},
   "outputs": [
    {
     "data": {
      "image/png": "[encoded data removed]",
      "text/plain": [
       "<Figure size 432x288 with 1 Axes>"
      ]
     },
     "metadata": {
      "needs_background": "light"
     },
     "output_type": "display_data"
    },
    {
     "data": {
      "text/plain": [
       "<Figure size 432x288 with 0 Axes>"
      ]
     },
     "metadata": {},
     "output_type": "display_data"
    }
   ],
   "source": [
    "plt.bar(languages.keys(),languages.values(),color=[\"r\",\"b\",\"#e60599\",\"c\",\"y\",\"#5fa2f0\",\"g\",\"pink\"])\n",
    "plt.xticks(rotation=45,fontsize=15)\n",
    "plt.title(\"Top Programming Languages\",fontsize=15)\n",
    "plt.show()\n",
    "\n",
    "plt.savefig('.png')"
   ]
  },
  {
   "cell_type": "markdown",
   "metadata": {},
   "source": [
    "#### Top programming language for a data science job role \n",
    "* More than 60% of employer preferred python programming language for a data scientist job role\n",
    "* SQL and r and java are also getting the buzz"
   ]
  },
  {
   "cell_type": "markdown",
   "metadata": {},
   "source": [
    "### 3.3. Top Deep learning frameworks"
   ]
  },
  {
   "cell_type": "code",
   "execution_count": 23,
   "metadata": {},
   "outputs": [
    {
     "data": {
      "text/plain": [
       "{'tensorflow': 8, 'pytorch': 4, 'keras': 2, 'mxnet': 1}"
      ]
     },
     "execution_count": 23,
     "metadata": {},
     "output_type": "execute_result"
    }
   ],
   "source": [
    "# Finding the commonly demanded deep learning framework for a  data science role\n",
    "# We put it in a dictionary\n",
    "\n",
    "frameworks={}\n",
    "\n",
    "frameworks['tensorflow']=sk1[\"count\"][sk1['skills'].str.contains('tensor', regex=True)].sum()\n",
    "frameworks['keras']=sk1[\"count\"][sk1['skills'].str.contains('keras', regex=True)].sum()\n",
    "frameworks['pytorch']=sk1[\"count\"][sk1['skills'].str.contains('torch', regex=True)].sum()\n",
    "frameworks['mxnet']=sk1[\"count\"][sk1['skills'].str.contains('mxnet', regex=True)].sum()\n",
    "\n",
    "# To sort the popular Deep Learning Framework in the dictionary\n",
    "frameworks = dict(sorted(frameworks.items(), key=itemgetter(1),reverse=True))\n",
    "frameworks"
   ]
  },
  {
   "cell_type": "code",
   "execution_count": 24,
   "metadata": {},
   "outputs": [
    {
     "data": {
      "image/png": "[encoded data removed]",
      "text/plain": [
       "<Figure size 432x288 with 1 Axes>"
      ]
     },
     "metadata": {
      "needs_background": "light"
     },
     "output_type": "display_data"
    }
   ],
   "source": [
    "plt.bar(frameworks.keys(),frameworks.values(),color=[\"g\",\"b\",\"#00d7ff\",\"#1e0c32\"],width=.5)\n",
    "plt.xticks(rotation=70,fontsize=15)\n",
    "plt.title(\"Top Deep Learning Frameworks\",fontsize=20)\n",
    "plt.show()"
   ]
  },
  {
   "cell_type": "markdown",
   "metadata": {},
   "source": [
    "#### Top Deep Learning Framework\n",
    "* Tensorflow and pytorch seems to be the most preffered deep learning frame work employers are looking for in a data science job role."
   ]
  },
  {
   "cell_type": "markdown",
   "metadata": {},
   "source": [
    "### 3.4. Cloud Services for a Data Science Job"
   ]
  },
  {
   "cell_type": "code",
   "execution_count": 26,
   "metadata": {},
   "outputs": [
    {
     "data": {
      "text/plain": [
       "{'aws': 7, 'azure': 3, 'gcp': 1}"
      ]
     },
     "execution_count": 26,
     "metadata": {},
     "output_type": "execute_result"
    }
   ],
   "source": [
    "#lets find the skills based on cloud providers\n",
    "# We put it in a dictionary\n",
    "cloud={}\n",
    "\n",
    "cloud['aws']=sk1[\"count\"][sk1['skills'].str.contains('aws', regex=True)].sum()\n",
    "cloud['azure']=sk1[\"count\"][sk1['skills'].str.contains('azure', regex=True)].sum()\n",
    "cloud['gcp']=sk1[\"count\"][sk1['skills'].str.contains('gcp')].sum()\n",
    "\n",
    "\n",
    "# To sort the popular popular cloud services provider in the dictionary\n",
    "cloud = dict(sorted(cloud.items(), key=itemgetter(1),reverse=True))\n",
    "cloud"
   ]
  },
  {
   "cell_type": "code",
   "execution_count": 27,
   "metadata": {},
   "outputs": [
    {
     "data": {
      "image/png": "[encoded data removed]",
      "text/plain": [
       "<Figure size 432x288 with 1 Axes>"
      ]
     },
     "metadata": {
      "needs_background": "light"
     },
     "output_type": "display_data"
    }
   ],
   "source": [
    "plt.bar(cloud.keys(),cloud.values(),color=[\"m\",\"y\",\"pink\"],width=.45)\n",
    "plt.xticks(rotation=45,fontsize=15)\n",
    "plt.title(\"Popular Cloud Services for a Data Science Job\",fontsize=14)\n",
    "plt.show()\n"
   ]
  },
  {
   "cell_type": "code",
   "execution_count": null,
   "metadata": {},
   "outputs": [],
   "source": []
  },
  {
   "cell_type": "markdown",
   "metadata": {},
   "source": [
    "### 3.5. Big data technologies for Data science"
   ]
  },
  {
   "cell_type": "code",
   "execution_count": 28,
   "metadata": {},
   "outputs": [
    {
     "data": {
      "text/plain": [
       "{'spark': 12, 'hadoop': 5, 'kafka': 1}"
      ]
     },
     "execution_count": 28,
     "metadata": {},
     "output_type": "execute_result"
    }
   ],
   "source": [
    "# We put it in a dictionary\n",
    "bigdata={}\n",
    "\n",
    "bigdata[\"spark\"]=sk1[\"count\"][sk1['skills'].str.contains('spark', regex=True)].sum()\n",
    "bigdata[\"hadoop\"]=sk1[\"count\"][sk1['skills'].str.contains('hadoop', regex=True)].sum()\n",
    "bigdata[\"kafka\"]=sk1[\"count\"][sk1['skills'].str.contains('kafka', regex=True)].sum()\n",
    "\n",
    "bigdata = dict(sorted(bigdata.items(), key=itemgetter(1),reverse=True))\n",
    "bigdata"
   ]
  },
  {
   "cell_type": "code",
   "execution_count": 29,
   "metadata": {},
   "outputs": [
    {
     "data": {
      "image/png": "[encoded data removed]",
      "text/plain": [
       "<Figure size 432x288 with 1 Axes>"
      ]
     },
     "metadata": {
      "needs_background": "light"
     },
     "output_type": "display_data"
    }
   ],
   "source": [
    "plt.bar(bigdata.keys(),bigdata.values(),color=[\"black\",\"purple\",\"#c8055a\"],width=0.6)\n",
    "plt.xticks(rotation=45,fontsize=15)\n",
    "plt.title(\"Top Big Data Technologies\",fontsize=20)\n",
    "plt.show()"
   ]
  },
  {
   "cell_type": "code",
   "execution_count": null,
   "metadata": {},
   "outputs": [],
   "source": []
  },
  {
   "cell_type": "markdown",
   "metadata": {},
   "source": [
    "### 3.6 Business Intelligence Tools"
   ]
  },
  {
   "cell_type": "code",
   "execution_count": 30,
   "metadata": {},
   "outputs": [
    {
     "data": {
      "text/plain": [
       "{'tableau': 7, 'power_bi': 3}"
      ]
     },
     "execution_count": 30,
     "metadata": {},
     "output_type": "execute_result"
    }
   ],
   "source": [
    "# Popular business intelligence tools\n",
    "# We put it in a dictionary\n",
    "bitools={}\n",
    "bitools[\"tableau\"]=sk1[\"count\"][sk1['skills'].str.contains('tableau', regex=True)].sum()\n",
    "bitools[\"power_bi\"]=sk1[\"count\"][sk1['skills'].str.contains('power', regex=True)].sum()\n",
    "\n",
    "bitools = dict(sorted(bitools.items(), key=itemgetter(1),reverse=True))\n",
    "bitools"
   ]
  },
  {
   "cell_type": "code",
   "execution_count": 31,
   "metadata": {},
   "outputs": [
    {
     "data": {
      "image/png": "[encoded data removed]",
      "text/plain": [
       "<Figure size 432x288 with 1 Axes>"
      ]
     },
     "metadata": {
      "needs_background": "light"
     },
     "output_type": "display_data"
    }
   ],
   "source": [
    "plt.bar(bitools.keys(),bitools.values(),color=[\"blue\",\"orange\"],width=(0.4))\n",
    "plt.xticks(rotation=45,fontsize=15)\n",
    "plt.title(\"Business Intelligence Tools for Visualization\",fontsize=14)\n",
    "plt.show()"
   ]
  },
  {
   "cell_type": "markdown",
   "metadata": {},
   "source": [
    "#### The Business intelligence tools for a data science job role \n",
    "* Tableau and Power Bi helps companies derive actionable insight from their data, create interactive dashboards and reports that can turn to positive decision and results."
   ]
  },
  {
   "cell_type": "markdown",
   "metadata": {},
   "source": [
    "### References\n",
    "* https://www.kdnuggets.com/2020/08/employers-expecting-data-scientist-role-2020.html\n",
    "\n",
    "* https://Monsterindia.com\n"
   ]
  },
  {
   "cell_type": "code",
   "execution_count": null,
   "metadata": {},
   "outputs": [],
   "source": []
  }
 ],
 "metadata": {
  "kernelspec": {
   "display_name": "Python 3",
   "language": "python",
   "name": "python3"
  },
  "language_info": {
   "codemirror_mode": {
    "name": "ipython",
    "version": 3
   },
   "file_extension": ".py",
   "mimetype": "text/x-python",
   "name": "python",
   "nbconvert_exporter": "python",
   "pygments_lexer": "ipython3",
   "version": "3.8.6"
  }
 },
 "nbformat": 4,
 "nbformat_minor": 4
}
